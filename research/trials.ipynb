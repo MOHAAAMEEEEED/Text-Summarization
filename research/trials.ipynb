{
 "cells": [
  {
   "cell_type": "code",
   "execution_count": 1,
   "id": "fc86e70f",
   "metadata": {},
   "outputs": [],
   "source": [
    "def get_product(x: int, y: int) -> int:\n",
    "    return x * y\n"
   ]
  },
  {
   "cell_type": "code",
   "execution_count": 2,
   "id": "3b3b8a34",
   "metadata": {},
   "outputs": [
    {
     "data": {
      "text/plain": [
       "6"
      ]
     },
     "execution_count": 2,
     "metadata": {},
     "output_type": "execute_result"
    }
   ],
   "source": [
    "get_product(2, 3)"
   ]
  },
  {
   "cell_type": "markdown",
   "id": "a89e9437",
   "metadata": {},
   "source": [
    "# HOW IT WORKS!!!"
   ]
  },
  {
   "cell_type": "code",
   "execution_count": 3,
   "id": "478f55a1",
   "metadata": {},
   "outputs": [
    {
     "data": {
      "text/plain": [
       "'44'"
      ]
     },
     "execution_count": 3,
     "metadata": {},
     "output_type": "execute_result"
    }
   ],
   "source": [
    "get_product(2, \"4\")"
   ]
  },
  {
   "cell_type": "code",
   "execution_count": 4,
   "id": "cb8fc7ba",
   "metadata": {},
   "outputs": [
    {
     "name": "stdout",
     "output_type": "stream",
     "text": [
      "Collecting ensure\n",
      "  Downloading ensure-1.0.4-py3-none-any.whl.metadata (10 kB)\n",
      "Requirement already satisfied: six>=1.11.0 in c:\\users\\mohamed walid\\.conda\\envs\\texts\\lib\\site-packages (from ensure) (1.16.0)\n",
      "Downloading ensure-1.0.4-py3-none-any.whl (15 kB)\n",
      "Installing collected packages: ensure\n",
      "Successfully installed ensure-1.0.4\n"
     ]
    }
   ],
   "source": [
    "!pip install ensure\n"
   ]
  }
 ],
 "metadata": {
  "kernelspec": {
   "display_name": "textS",
   "language": "python",
   "name": "python3"
  },
  "language_info": {
   "codemirror_mode": {
    "name": "ipython",
    "version": 3
   },
   "file_extension": ".py",
   "mimetype": "text/x-python",
   "name": "python",
   "nbconvert_exporter": "python",
   "pygments_lexer": "ipython3",
   "version": "3.8.20"
  }
 },
 "nbformat": 4,
 "nbformat_minor": 5
}
